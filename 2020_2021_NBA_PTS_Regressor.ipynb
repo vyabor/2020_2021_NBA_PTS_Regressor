{
 "cells": [
  {
   "cell_type": "code",
   "execution_count": 1,
   "id": "66901e62",
   "metadata": {},
   "outputs": [],
   "source": [
    "from urllib.request import urlopen\n",
    "from bs4 import BeautifulSoup\n",
    "import pandas as pd\n",
    "import numpy as np\n",
    "import matplotlib.pyplot as plt\n",
    "%matplotlib inline\n",
    "from sklearn.tree import DecisionTreeRegressor\n",
    "from sklearn.linear_model import LinearRegression\n",
    "from sklearn.model_selection import train_test_split\n",
    "from sklearn.metrics import mean_squared_error\n",
    "from math import sqrt\n",
    "import random\n",
    "import scipy.stats as stats"
   ]
  },
  {
   "cell_type": "code",
   "execution_count": 2,
   "id": "d7ada0f9",
   "metadata": {},
   "outputs": [],
   "source": [
    "year = 2021"
   ]
  },
  {
   "cell_type": "code",
   "execution_count": 3,
   "id": "f5ff1f4c",
   "metadata": {},
   "outputs": [],
   "source": [
    "url = \"https://www.basketball-reference.com/leagues/NBA_{}_per_game.html\".format(year)\n",
    "html = urlopen(url)\n",
    "soup = BeautifulSoup(html)"
   ]
  },
  {
   "cell_type": "code",
   "execution_count": 4,
   "id": "461740e0",
   "metadata": {},
   "outputs": [
    {
     "data": {
      "text/plain": [
       "[<tr>\n",
       " <th aria-label=\"Rank\" class=\"ranker poptip sort_default_asc show_partial_when_sorting center\" data-stat=\"ranker\" data-tip=\"Rank\" scope=\"col\">Rk</th>\n",
       " <th aria-label=\"Player\" class=\"poptip sort_default_asc center\" data-stat=\"player\" scope=\"col\">Player</th>\n",
       " <th aria-label=\"Position\" class=\"poptip sort_default_asc center\" data-stat=\"pos\" data-tip=\"Position\" scope=\"col\">Pos</th>\n",
       " <th aria-label=\"Player's age on February 1 of the season\" class=\"poptip sort_default_asc center\" data-stat=\"age\" data-tip=\"Player's age on February 1 of the season\" scope=\"col\">Age</th>\n",
       " <th aria-label=\"Team\" class=\"poptip sort_default_asc center\" data-stat=\"team_id\" data-tip=\"Team\" scope=\"col\">Tm</th>\n",
       " <th aria-label=\"Games\" class=\"poptip center\" data-stat=\"g\" data-tip=\"Games\" scope=\"col\">G</th>\n",
       " <th aria-label=\"Games Started\" class=\"poptip center\" data-stat=\"gs\" data-tip=\"Games Started\" scope=\"col\">GS</th>\n",
       " <th aria-label=\"Minutes Played Per Game\" class=\"poptip hide_non_quals center\" data-stat=\"mp_per_g\" data-tip=\"Minutes Played Per Game\" scope=\"col\">MP</th>\n",
       " <th aria-label=\"Field Goals Per Game\" class=\"poptip hide_non_quals center\" data-stat=\"fg_per_g\" data-tip=\"Field Goals Per Game\" scope=\"col\">FG</th>\n",
       " <th aria-label=\"Field Goal Attempts Per Game\" class=\"poptip hide_non_quals center\" data-stat=\"fga_per_g\" data-tip=\"Field Goal Attempts Per Game\" scope=\"col\">FGA</th>\n",
       " <th aria-label=\"Field Goal Percentage\" class=\"poptip hide_non_quals center\" data-stat=\"fg_pct\" data-tip=\"Field Goal Percentage\" scope=\"col\">FG%</th>\n",
       " <th aria-label=\"3-Point Field Goals Per Game\" class=\"poptip hide_non_quals center\" data-stat=\"fg3_per_g\" data-tip=\"3-Point Field Goals Per Game\" scope=\"col\">3P</th>\n",
       " <th aria-label=\"3-Point Field Goal Attempts Per Game\" class=\"poptip hide_non_quals center\" data-stat=\"fg3a_per_g\" data-tip=\"3-Point Field Goal Attempts Per Game\" scope=\"col\">3PA</th>\n",
       " <th aria-label=\"3-Point Field Goal Percentage\" class=\"poptip hide_non_quals center\" data-stat=\"fg3_pct\" data-tip=\"3-Point Field Goal Percentage\" scope=\"col\">3P%</th>\n",
       " <th aria-label=\"2-Point Field Goals Per Game\" class=\"poptip hide_non_quals center\" data-stat=\"fg2_per_g\" data-tip=\"2-Point Field Goals Per Game\" scope=\"col\">2P</th>\n",
       " <th aria-label=\"2-Point Field Goal Attempts Per Game\" class=\"poptip hide_non_quals center\" data-stat=\"fg2a_per_g\" data-tip=\"2-Point Field Goal Attempts Per Game\" scope=\"col\">2PA</th>\n",
       " <th aria-label=\"2-Point Field Goal Percentage\" class=\"poptip hide_non_quals center\" data-stat=\"fg2_pct\" data-tip=\"2-Point Field Goal Percentage\" scope=\"col\">2P%</th>\n",
       " <th aria-label=\"Effective Field Goal Percentage\" class=\"poptip hide_non_quals center\" data-stat=\"efg_pct\" data-tip=\"&lt;strong&gt;Effective Field Goal Percentage&lt;/strong&gt;&lt;br&gt;This statistic adjusts for the fact that a 3-point field goal is worth one more point than a 2-point field goal.\" scope=\"col\">eFG%</th>\n",
       " <th aria-label=\"Free Throws Per Game\" class=\"poptip hide_non_quals center\" data-stat=\"ft_per_g\" data-tip=\"Free Throws Per Game\" scope=\"col\">FT</th>\n",
       " <th aria-label=\"Free Throw Attempts Per Game\" class=\"poptip hide_non_quals center\" data-stat=\"fta_per_g\" data-tip=\"Free Throw Attempts Per Game\" scope=\"col\">FTA</th>\n",
       " <th aria-label=\"Free Throw Percentage\" class=\"poptip hide_non_quals center\" data-stat=\"ft_pct\" data-tip=\"Free Throw Percentage\" scope=\"col\">FT%</th>\n",
       " <th aria-label=\"Offensive Rebounds Per Game\" class=\"poptip hide_non_quals center\" data-stat=\"orb_per_g\" data-tip=\"Offensive Rebounds Per Game\" scope=\"col\">ORB</th>\n",
       " <th aria-label=\"Defensive Rebounds Per Game\" class=\"poptip hide_non_quals center\" data-stat=\"drb_per_g\" data-tip=\"Defensive Rebounds Per Game\" scope=\"col\">DRB</th>\n",
       " <th aria-label=\"Total Rebounds Per Game\" class=\"poptip hide_non_quals center\" data-stat=\"trb_per_g\" data-tip=\"Total Rebounds Per Game\" scope=\"col\">TRB</th>\n",
       " <th aria-label=\"Assists Per Game\" class=\"poptip hide_non_quals center\" data-stat=\"ast_per_g\" data-tip=\"Assists Per Game\" scope=\"col\">AST</th>\n",
       " <th aria-label=\"Steals Per Game\" class=\"poptip hide_non_quals center\" data-stat=\"stl_per_g\" data-tip=\"Steals Per Game\" scope=\"col\">STL</th>\n",
       " <th aria-label=\"Blocks Per Game\" class=\"poptip hide_non_quals center\" data-stat=\"blk_per_g\" data-tip=\"Blocks Per Game\" scope=\"col\">BLK</th>\n",
       " <th aria-label=\"Turnovers Per Game\" class=\"poptip hide_non_quals center\" data-stat=\"tov_per_g\" data-tip=\"Turnovers Per Game\" scope=\"col\">TOV</th>\n",
       " <th aria-label=\"Personal Fouls Per Game\" class=\"poptip hide_non_quals center\" data-stat=\"pf_per_g\" data-tip=\"Personal Fouls Per Game\" scope=\"col\">PF</th>\n",
       " <th aria-label=\"Points Per Game\" class=\"poptip hide_non_quals center\" data-stat=\"pts_per_g\" data-tip=\"Points Per Game\" scope=\"col\">PTS</th>\n",
       " </tr>,\n",
       " <tr class=\"full_table\"><th class=\"right\" csk=\"1\" data-stat=\"ranker\" scope=\"row\">1</th><td class=\"left\" csk=\"Achiuwa,Precious\" data-append-csv=\"achiupr01\" data-stat=\"player\"><a href=\"/players/a/achiupr01.html\">Precious Achiuwa</a></td><td class=\"center\" data-stat=\"pos\">PF</td><td class=\"right\" data-stat=\"age\">21</td><td class=\"left\" data-stat=\"team_id\"><a href=\"/teams/MIA/2021.html\">MIA</a></td><td class=\"right\" data-stat=\"g\">61</td><td class=\"right\" data-stat=\"gs\">4</td><td class=\"right\" data-stat=\"mp_per_g\">12.1</td><td class=\"right\" data-stat=\"fg_per_g\">2.0</td><td class=\"right\" data-stat=\"fga_per_g\">3.7</td><td class=\"right non_qual\" data-stat=\"fg_pct\">.544</td><td class=\"right iz\" data-stat=\"fg3_per_g\">0.0</td><td class=\"right iz\" data-stat=\"fg3a_per_g\">0.0</td><td class=\"right non_qual iz\" data-stat=\"fg3_pct\">.000</td><td class=\"right\" data-stat=\"fg2_per_g\">2.0</td><td class=\"right\" data-stat=\"fg2a_per_g\">3.7</td><td class=\"right non_qual\" data-stat=\"fg2_pct\">.546</td><td class=\"right non_qual\" data-stat=\"efg_pct\">.544</td><td class=\"right\" data-stat=\"ft_per_g\">0.9</td><td class=\"right\" data-stat=\"fta_per_g\">1.8</td><td class=\"right non_qual\" data-stat=\"ft_pct\">.509</td><td class=\"right\" data-stat=\"orb_per_g\">1.2</td><td class=\"right\" data-stat=\"drb_per_g\">2.2</td><td class=\"right\" data-stat=\"trb_per_g\">3.4</td><td class=\"right\" data-stat=\"ast_per_g\">0.5</td><td class=\"right\" data-stat=\"stl_per_g\">0.3</td><td class=\"right\" data-stat=\"blk_per_g\">0.5</td><td class=\"right\" data-stat=\"tov_per_g\">0.7</td><td class=\"right\" data-stat=\"pf_per_g\">1.5</td><td class=\"right\" data-stat=\"pts_per_g\">5.0</td></tr>]"
      ]
     },
     "execution_count": 4,
     "metadata": {},
     "output_type": "execute_result"
    }
   ],
   "source": [
    "soup.findAll('tr',limit=2)"
   ]
  },
  {
   "cell_type": "code",
   "execution_count": 5,
   "id": "220af802",
   "metadata": {},
   "outputs": [],
   "source": [
    "headers = []\n",
    "for head in soup.findAll('tr',limit=2)[0].findAll('th'):\n",
    "    headers.append(head.getText())"
   ]
  },
  {
   "cell_type": "code",
   "execution_count": 6,
   "id": "75971e8c",
   "metadata": {},
   "outputs": [
    {
     "data": {
      "text/plain": [
       "['Player',\n",
       " 'Pos',\n",
       " 'Age',\n",
       " 'Tm',\n",
       " 'G',\n",
       " 'GS',\n",
       " 'MP',\n",
       " 'FG',\n",
       " 'FGA',\n",
       " 'FG%',\n",
       " '3P',\n",
       " '3PA',\n",
       " '3P%',\n",
       " '2P',\n",
       " '2PA',\n",
       " '2P%',\n",
       " 'eFG%',\n",
       " 'FT',\n",
       " 'FTA',\n",
       " 'FT%',\n",
       " 'ORB',\n",
       " 'DRB',\n",
       " 'TRB',\n",
       " 'AST',\n",
       " 'STL',\n",
       " 'BLK',\n",
       " 'TOV',\n",
       " 'PF',\n",
       " 'PTS']"
      ]
     },
     "execution_count": 6,
     "metadata": {},
     "output_type": "execute_result"
    }
   ],
   "source": [
    "headers = headers[1:]\n",
    "headers"
   ]
  },
  {
   "cell_type": "code",
   "execution_count": 7,
   "id": "1b92002d",
   "metadata": {},
   "outputs": [],
   "source": [
    "rows = soup.findAll('tr')[1:]\n",
    "player_stats = [[td.getText() for td in rows[i].findAll('td')] for i in range(len(rows))]"
   ]
  },
  {
   "cell_type": "code",
   "execution_count": 8,
   "id": "3b5f3eba",
   "metadata": {
    "scrolled": true
   },
   "outputs": [
    {
     "data": {
      "text/html": [
       "<div>\n",
       "<style scoped>\n",
       "    .dataframe tbody tr th:only-of-type {\n",
       "        vertical-align: middle;\n",
       "    }\n",
       "\n",
       "    .dataframe tbody tr th {\n",
       "        vertical-align: top;\n",
       "    }\n",
       "\n",
       "    .dataframe thead th {\n",
       "        text-align: right;\n",
       "    }\n",
       "</style>\n",
       "<table border=\"1\" class=\"dataframe\">\n",
       "  <thead>\n",
       "    <tr style=\"text-align: right;\">\n",
       "      <th></th>\n",
       "      <th>Player</th>\n",
       "      <th>Pos</th>\n",
       "      <th>Age</th>\n",
       "      <th>Tm</th>\n",
       "      <th>G</th>\n",
       "      <th>GS</th>\n",
       "      <th>MP</th>\n",
       "      <th>FG</th>\n",
       "      <th>FGA</th>\n",
       "      <th>FG%</th>\n",
       "      <th>...</th>\n",
       "      <th>FT%</th>\n",
       "      <th>ORB</th>\n",
       "      <th>DRB</th>\n",
       "      <th>TRB</th>\n",
       "      <th>AST</th>\n",
       "      <th>STL</th>\n",
       "      <th>BLK</th>\n",
       "      <th>TOV</th>\n",
       "      <th>PF</th>\n",
       "      <th>PTS</th>\n",
       "    </tr>\n",
       "  </thead>\n",
       "  <tbody>\n",
       "    <tr>\n",
       "      <th>0</th>\n",
       "      <td>Precious Achiuwa</td>\n",
       "      <td>PF</td>\n",
       "      <td>21</td>\n",
       "      <td>MIA</td>\n",
       "      <td>61</td>\n",
       "      <td>4</td>\n",
       "      <td>12.1</td>\n",
       "      <td>2.0</td>\n",
       "      <td>3.7</td>\n",
       "      <td>.544</td>\n",
       "      <td>...</td>\n",
       "      <td>.509</td>\n",
       "      <td>1.2</td>\n",
       "      <td>2.2</td>\n",
       "      <td>3.4</td>\n",
       "      <td>0.5</td>\n",
       "      <td>0.3</td>\n",
       "      <td>0.5</td>\n",
       "      <td>0.7</td>\n",
       "      <td>1.5</td>\n",
       "      <td>5.0</td>\n",
       "    </tr>\n",
       "    <tr>\n",
       "      <th>1</th>\n",
       "      <td>Jaylen Adams</td>\n",
       "      <td>PG</td>\n",
       "      <td>24</td>\n",
       "      <td>MIL</td>\n",
       "      <td>7</td>\n",
       "      <td>0</td>\n",
       "      <td>2.6</td>\n",
       "      <td>0.1</td>\n",
       "      <td>1.1</td>\n",
       "      <td>.125</td>\n",
       "      <td>...</td>\n",
       "      <td></td>\n",
       "      <td>0.0</td>\n",
       "      <td>0.4</td>\n",
       "      <td>0.4</td>\n",
       "      <td>0.3</td>\n",
       "      <td>0.0</td>\n",
       "      <td>0.0</td>\n",
       "      <td>0.0</td>\n",
       "      <td>0.1</td>\n",
       "      <td>0.3</td>\n",
       "    </tr>\n",
       "    <tr>\n",
       "      <th>2</th>\n",
       "      <td>Steven Adams</td>\n",
       "      <td>C</td>\n",
       "      <td>27</td>\n",
       "      <td>NOP</td>\n",
       "      <td>58</td>\n",
       "      <td>58</td>\n",
       "      <td>27.7</td>\n",
       "      <td>3.3</td>\n",
       "      <td>5.3</td>\n",
       "      <td>.614</td>\n",
       "      <td>...</td>\n",
       "      <td>.444</td>\n",
       "      <td>3.7</td>\n",
       "      <td>5.2</td>\n",
       "      <td>8.9</td>\n",
       "      <td>1.9</td>\n",
       "      <td>0.9</td>\n",
       "      <td>0.7</td>\n",
       "      <td>1.3</td>\n",
       "      <td>1.9</td>\n",
       "      <td>7.6</td>\n",
       "    </tr>\n",
       "    <tr>\n",
       "      <th>3</th>\n",
       "      <td>Bam Adebayo</td>\n",
       "      <td>C</td>\n",
       "      <td>23</td>\n",
       "      <td>MIA</td>\n",
       "      <td>64</td>\n",
       "      <td>64</td>\n",
       "      <td>33.5</td>\n",
       "      <td>7.1</td>\n",
       "      <td>12.5</td>\n",
       "      <td>.570</td>\n",
       "      <td>...</td>\n",
       "      <td>.799</td>\n",
       "      <td>2.2</td>\n",
       "      <td>6.7</td>\n",
       "      <td>9.0</td>\n",
       "      <td>5.4</td>\n",
       "      <td>1.2</td>\n",
       "      <td>1.0</td>\n",
       "      <td>2.6</td>\n",
       "      <td>2.3</td>\n",
       "      <td>18.7</td>\n",
       "    </tr>\n",
       "    <tr>\n",
       "      <th>4</th>\n",
       "      <td>LaMarcus Aldridge</td>\n",
       "      <td>C</td>\n",
       "      <td>35</td>\n",
       "      <td>TOT</td>\n",
       "      <td>26</td>\n",
       "      <td>23</td>\n",
       "      <td>25.9</td>\n",
       "      <td>5.4</td>\n",
       "      <td>11.4</td>\n",
       "      <td>.473</td>\n",
       "      <td>...</td>\n",
       "      <td>.872</td>\n",
       "      <td>0.7</td>\n",
       "      <td>3.8</td>\n",
       "      <td>4.5</td>\n",
       "      <td>1.9</td>\n",
       "      <td>0.4</td>\n",
       "      <td>1.1</td>\n",
       "      <td>1.0</td>\n",
       "      <td>1.8</td>\n",
       "      <td>13.5</td>\n",
       "    </tr>\n",
       "  </tbody>\n",
       "</table>\n",
       "<p>5 rows × 29 columns</p>\n",
       "</div>"
      ],
      "text/plain": [
       "              Player Pos Age   Tm   G  GS    MP   FG   FGA   FG%  ...   FT%  \\\n",
       "0   Precious Achiuwa  PF  21  MIA  61   4  12.1  2.0   3.7  .544  ...  .509   \n",
       "1       Jaylen Adams  PG  24  MIL   7   0   2.6  0.1   1.1  .125  ...         \n",
       "2       Steven Adams   C  27  NOP  58  58  27.7  3.3   5.3  .614  ...  .444   \n",
       "3        Bam Adebayo   C  23  MIA  64  64  33.5  7.1  12.5  .570  ...  .799   \n",
       "4  LaMarcus Aldridge   C  35  TOT  26  23  25.9  5.4  11.4  .473  ...  .872   \n",
       "\n",
       "   ORB  DRB  TRB  AST  STL  BLK  TOV   PF   PTS  \n",
       "0  1.2  2.2  3.4  0.5  0.3  0.5  0.7  1.5   5.0  \n",
       "1  0.0  0.4  0.4  0.3  0.0  0.0  0.0  0.1   0.3  \n",
       "2  3.7  5.2  8.9  1.9  0.9  0.7  1.3  1.9   7.6  \n",
       "3  2.2  6.7  9.0  5.4  1.2  1.0  2.6  2.3  18.7  \n",
       "4  0.7  3.8  4.5  1.9  0.4  1.1  1.0  1.8  13.5  \n",
       "\n",
       "[5 rows x 29 columns]"
      ]
     },
     "execution_count": 8,
     "metadata": {},
     "output_type": "execute_result"
    }
   ],
   "source": [
    "stat = pd.DataFrame(player_stats, columns = headers)\n",
    "stat.head()"
   ]
  },
  {
   "cell_type": "code",
   "execution_count": 9,
   "id": "72b1d617",
   "metadata": {},
   "outputs": [],
   "source": [
    "x = stat.drop(['Player','Pos','Tm','PTS'],axis=1)\n",
    "y = stat.loc[:,['PTS']]"
   ]
  },
  {
   "cell_type": "code",
   "execution_count": 10,
   "id": "0216c92e",
   "metadata": {},
   "outputs": [],
   "source": [
    "x = x.apply(pd.to_numeric).fillna(0)\n",
    "y = y.apply(pd.to_numeric).fillna(0)"
   ]
  },
  {
   "cell_type": "code",
   "execution_count": 11,
   "id": "81e8a9e4",
   "metadata": {},
   "outputs": [],
   "source": [
    "x_train, x_test, y_train, y_test = train_test_split(x,y,test_size=0.3, random_state=random.randint(1,300))"
   ]
  },
  {
   "cell_type": "code",
   "execution_count": 12,
   "id": "50a4052d",
   "metadata": {},
   "outputs": [
    {
     "data": {
      "text/plain": [
       "LinearRegression()"
      ]
     },
     "execution_count": 12,
     "metadata": {},
     "output_type": "execute_result"
    }
   ],
   "source": [
    "regressor = LinearRegression()\n",
    "regressor.fit(x_train,y_train)"
   ]
  },
  {
   "cell_type": "code",
   "execution_count": 13,
   "id": "048ce4fe",
   "metadata": {},
   "outputs": [],
   "source": [
    "y_prediction = regressor.predict(x_test)"
   ]
  },
  {
   "cell_type": "code",
   "execution_count": 14,
   "id": "f2958ccd",
   "metadata": {},
   "outputs": [
    {
     "data": {
      "text/html": [
       "<div>\n",
       "<style scoped>\n",
       "    .dataframe tbody tr th:only-of-type {\n",
       "        vertical-align: middle;\n",
       "    }\n",
       "\n",
       "    .dataframe tbody tr th {\n",
       "        vertical-align: top;\n",
       "    }\n",
       "\n",
       "    .dataframe thead th {\n",
       "        text-align: right;\n",
       "    }\n",
       "</style>\n",
       "<table border=\"1\" class=\"dataframe\">\n",
       "  <thead>\n",
       "    <tr style=\"text-align: right;\">\n",
       "      <th></th>\n",
       "      <th>PTS</th>\n",
       "    </tr>\n",
       "  </thead>\n",
       "  <tbody>\n",
       "    <tr>\n",
       "      <th>count</th>\n",
       "      <td>220.000000</td>\n",
       "    </tr>\n",
       "    <tr>\n",
       "      <th>mean</th>\n",
       "      <td>8.775000</td>\n",
       "    </tr>\n",
       "    <tr>\n",
       "      <th>std</th>\n",
       "      <td>6.680918</td>\n",
       "    </tr>\n",
       "    <tr>\n",
       "      <th>min</th>\n",
       "      <td>0.000000</td>\n",
       "    </tr>\n",
       "    <tr>\n",
       "      <th>25%</th>\n",
       "      <td>3.775000</td>\n",
       "    </tr>\n",
       "    <tr>\n",
       "      <th>50%</th>\n",
       "      <td>7.200000</td>\n",
       "    </tr>\n",
       "    <tr>\n",
       "      <th>75%</th>\n",
       "      <td>12.650000</td>\n",
       "    </tr>\n",
       "    <tr>\n",
       "      <th>max</th>\n",
       "      <td>28.800000</td>\n",
       "    </tr>\n",
       "  </tbody>\n",
       "</table>\n",
       "</div>"
      ],
      "text/plain": [
       "              PTS\n",
       "count  220.000000\n",
       "mean     8.775000\n",
       "std      6.680918\n",
       "min      0.000000\n",
       "25%      3.775000\n",
       "50%      7.200000\n",
       "75%     12.650000\n",
       "max     28.800000"
      ]
     },
     "execution_count": 14,
     "metadata": {},
     "output_type": "execute_result"
    }
   ],
   "source": [
    "y_test.describe()"
   ]
  },
  {
   "cell_type": "code",
   "execution_count": 15,
   "id": "d37c03cd",
   "metadata": {},
   "outputs": [
    {
     "name": "stdout",
     "output_type": "stream",
     "text": [
      "0.07286887674678268\n"
     ]
    }
   ],
   "source": [
    "RMSE = sqrt(mean_squared_error(y_true = y_test, y_pred = y_prediction))\n",
    "print(RMSE)"
   ]
  },
  {
   "cell_type": "code",
   "execution_count": 16,
   "id": "7d1235a6",
   "metadata": {},
   "outputs": [
    {
     "data": {
      "text/plain": [
       "DecisionTreeRegressor(max_depth=2)"
      ]
     },
     "execution_count": 16,
     "metadata": {},
     "output_type": "execute_result"
    }
   ],
   "source": [
    "regressor = DecisionTreeRegressor(max_depth=2)\n",
    "regressor.fit(x_train, y_train)"
   ]
  },
  {
   "cell_type": "code",
   "execution_count": 17,
   "id": "bafb7592",
   "metadata": {},
   "outputs": [],
   "source": [
    "y_prediction = regressor.predict(x_test)"
   ]
  },
  {
   "cell_type": "code",
   "execution_count": 18,
   "id": "fd396d80",
   "metadata": {},
   "outputs": [
    {
     "name": "stdout",
     "output_type": "stream",
     "text": [
      "2.104376396208244\n"
     ]
    }
   ],
   "source": [
    "RMSE = sqrt(mean_squared_error(y_true = y_test, y_pred = y_prediction))\n",
    "print(RMSE)"
   ]
  },
  {
   "cell_type": "code",
   "execution_count": 19,
   "id": "a26db4da",
   "metadata": {},
   "outputs": [],
   "source": [
    "pts_prediction = pd.DataFrame(y_prediction)"
   ]
  },
  {
   "cell_type": "code",
   "execution_count": 20,
   "id": "17951248",
   "metadata": {},
   "outputs": [],
   "source": [
    "pts_prediction.columns = ['PTS']"
   ]
  },
  {
   "cell_type": "code",
   "execution_count": 21,
   "id": "4e9bca4c",
   "metadata": {},
   "outputs": [
    {
     "data": {
      "text/html": [
       "<div>\n",
       "<style scoped>\n",
       "    .dataframe tbody tr th:only-of-type {\n",
       "        vertical-align: middle;\n",
       "    }\n",
       "\n",
       "    .dataframe tbody tr th {\n",
       "        vertical-align: top;\n",
       "    }\n",
       "\n",
       "    .dataframe thead th {\n",
       "        text-align: right;\n",
       "    }\n",
       "</style>\n",
       "<table border=\"1\" class=\"dataframe\">\n",
       "  <thead>\n",
       "    <tr style=\"text-align: right;\">\n",
       "      <th></th>\n",
       "      <th>PTS</th>\n",
       "    </tr>\n",
       "  </thead>\n",
       "  <tbody>\n",
       "    <tr>\n",
       "      <th>count</th>\n",
       "      <td>220.000000</td>\n",
       "    </tr>\n",
       "    <tr>\n",
       "      <th>mean</th>\n",
       "      <td>8.628364</td>\n",
       "    </tr>\n",
       "    <tr>\n",
       "      <th>std</th>\n",
       "      <td>6.269127</td>\n",
       "    </tr>\n",
       "    <tr>\n",
       "      <th>min</th>\n",
       "      <td>2.330409</td>\n",
       "    </tr>\n",
       "    <tr>\n",
       "      <th>25%</th>\n",
       "      <td>2.330409</td>\n",
       "    </tr>\n",
       "    <tr>\n",
       "      <th>50%</th>\n",
       "      <td>7.399502</td>\n",
       "    </tr>\n",
       "    <tr>\n",
       "      <th>75%</th>\n",
       "      <td>13.463636</td>\n",
       "    </tr>\n",
       "    <tr>\n",
       "      <th>max</th>\n",
       "      <td>23.137500</td>\n",
       "    </tr>\n",
       "  </tbody>\n",
       "</table>\n",
       "</div>"
      ],
      "text/plain": [
       "              PTS\n",
       "count  220.000000\n",
       "mean     8.628364\n",
       "std      6.269127\n",
       "min      2.330409\n",
       "25%      2.330409\n",
       "50%      7.399502\n",
       "75%     13.463636\n",
       "max     23.137500"
      ]
     },
     "execution_count": 21,
     "metadata": {},
     "output_type": "execute_result"
    }
   ],
   "source": [
    "pts_prediction.describe()"
   ]
  },
  {
   "cell_type": "code",
   "execution_count": 22,
   "id": "0cb195d5",
   "metadata": {},
   "outputs": [],
   "source": [
    "pts_prediction = pts_prediction.set_index(y_test.index)"
   ]
  },
  {
   "cell_type": "code",
   "execution_count": 23,
   "id": "7d464515",
   "metadata": {},
   "outputs": [],
   "source": [
    "def percent_error(predicted, actual):\n",
    "    perc_error = ((predicted-actual)/actual)*100\n",
    "    return perc_error"
   ]
  },
  {
   "cell_type": "code",
   "execution_count": 24,
   "id": "2f3b7f65",
   "metadata": {},
   "outputs": [
    {
     "data": {
      "text/plain": [
       "PTS    8.628364\n",
       "Name: mean, dtype: float64"
      ]
     },
     "execution_count": 24,
     "metadata": {},
     "output_type": "execute_result"
    }
   ],
   "source": [
    "predicted_mean = pts_prediction.describe().iloc[1]\n",
    "predicted_mean"
   ]
  },
  {
   "cell_type": "code",
   "execution_count": 25,
   "id": "58583922",
   "metadata": {},
   "outputs": [
    {
     "data": {
      "text/plain": [
       "PTS    8.310123\n",
       "Name: mean, dtype: float64"
      ]
     },
     "execution_count": 25,
     "metadata": {},
     "output_type": "execute_result"
    }
   ],
   "source": [
    "population_mean = y.describe().iloc[1]\n",
    "population_mean"
   ]
  },
  {
   "cell_type": "code",
   "execution_count": 26,
   "id": "8ee98581",
   "metadata": {},
   "outputs": [
    {
     "data": {
      "text/plain": [
       "8.774999999999997"
      ]
     },
     "execution_count": 26,
     "metadata": {},
     "output_type": "execute_result"
    }
   ],
   "source": [
    "y_test_mean = y_test.describe().iloc[1]\n",
    "y_test_mean[0]"
   ]
  },
  {
   "cell_type": "code",
   "execution_count": 27,
   "id": "0d515219",
   "metadata": {},
   "outputs": [
    {
     "data": {
      "text/plain": [
       "PTS   -1.671063\n",
       "Name: mean, dtype: float64"
      ]
     },
     "execution_count": 27,
     "metadata": {},
     "output_type": "execute_result"
    }
   ],
   "source": [
    "percent_error(predicted_mean,y_test_mean)"
   ]
  },
  {
   "cell_type": "code",
   "execution_count": 28,
   "id": "7ddbd11d",
   "metadata": {},
   "outputs": [
    {
     "data": {
      "text/plain": [
       "PTS    3.82956\n",
       "Name: mean, dtype: float64"
      ]
     },
     "execution_count": 28,
     "metadata": {},
     "output_type": "execute_result"
    }
   ],
   "source": [
    "percent_error(predicted_mean,population_mean)"
   ]
  },
  {
   "cell_type": "code",
   "execution_count": 29,
   "id": "1468400c",
   "metadata": {},
   "outputs": [
    {
     "data": {
      "text/plain": [
       "array([[ 2.9],\n",
       "       [ 8.2],\n",
       "       [ 0. ],\n",
       "       [17.7],\n",
       "       [14.8]])"
      ]
     },
     "execution_count": 29,
     "metadata": {},
     "output_type": "execute_result"
    }
   ],
   "source": [
    "y_test_array = y_test.to_numpy()\n",
    "y_test_array[:5]"
   ]
  },
  {
   "cell_type": "code",
   "execution_count": 30,
   "id": "706ece6c",
   "metadata": {},
   "outputs": [
    {
     "data": {
      "text/plain": [
       "array([[ 2.33040936],\n",
       "       [ 7.39950249],\n",
       "       [ 2.33040936],\n",
       "       [23.1375    ],\n",
       "       [13.46363636]])"
      ]
     },
     "execution_count": 30,
     "metadata": {},
     "output_type": "execute_result"
    }
   ],
   "source": [
    "pts_prediction_array = pts_prediction.to_numpy()\n",
    "pts_prediction_array[:5]"
   ]
  },
  {
   "cell_type": "code",
   "execution_count": 31,
   "id": "e8dff06a",
   "metadata": {},
   "outputs": [
    {
     "data": {
      "text/plain": [
       "0.9491751377988132"
      ]
     },
     "execution_count": 31,
     "metadata": {},
     "output_type": "execute_result"
    },
    {
     "data": {
      "image/png": "[encoded data removed]",
      "text/plain": [
       "<Figure size 432x288 with 1 Axes>"
      ]
     },
     "metadata": {
      "needs_background": "light"
     },
     "output_type": "display_data"
    }
   ],
   "source": [
    "plt.scatter(y_test['PTS'],pts_prediction['PTS'])\n",
    "plt.xlabel('y_test points per game')\n",
    "plt.ylabel('predicted points per game')\n",
    "plt.title('predicted vs actual points per game')\n",
    "\n",
    "z = np.polyfit(y_test['PTS'], pts_prediction['PTS'], 1)\n",
    "p = np.poly1d(z)\n",
    "plt.plot(y_test['PTS'],p(y_test['PTS']),\"r\")\n",
    "\n",
    "stats.pearsonr(y_test_array.flatten(),pts_prediction_array.flatten())[0]"
   ]
  },
  {
   "cell_type": "code",
   "execution_count": null,
   "id": "8374926a",
   "metadata": {},
   "outputs": [],
   "source": []
  }
 ],
 "metadata": {
  "kernelspec": {
   "display_name": "Python 3",
   "language": "python",
   "name": "python3"
  },
  "language_info": {
   "codemirror_mode": {
    "name": "ipython",
    "version": 3
   },
   "file_extension": ".py",
   "mimetype": "text/x-python",
   "name": "python",
   "nbconvert_exporter": "python",
   "pygments_lexer": "ipython3",
   "version": "3.8.8"
  }
 },
 "nbformat": 4,
 "nbformat_minor": 5
}
