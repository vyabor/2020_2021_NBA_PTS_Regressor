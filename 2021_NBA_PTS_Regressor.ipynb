{
 "cells": [
  {
   "cell_type": "code",
   "execution_count": 1,
   "id": "015773c0",
   "metadata": {},
   "outputs": [],
   "source": [
    "from urllib.request import urlopen\n",
    "from bs4 import BeautifulSoup\n",
    "import pandas as pd\n",
    "import numpy as np\n",
    "import matplotlib.pyplot as plt\n",
    "%matplotlib inline\n",
    "from sklearn.linear_model import LinearRegression\n",
    "from sklearn.model_selection import train_test_split\n",
    "from sklearn.metrics import mean_squared_error\n",
    "from math import sqrt\n",
    "import scipy.stats as stats"
   ]
  },
  {
   "cell_type": "markdown",
   "id": "6ef330b4",
   "metadata": {},
   "source": [
    "# Scraping HTML and Building DataFrame"
   ]
  },
  {
   "cell_type": "code",
   "execution_count": 2,
   "id": "63352188",
   "metadata": {},
   "outputs": [],
   "source": [
    "year = 2021"
   ]
  },
  {
   "cell_type": "code",
   "execution_count": 3,
   "id": "84da3823",
   "metadata": {},
   "outputs": [],
   "source": [
    "url = \"https://www.basketball-reference.com/leagues/NBA_{}_per_game.html\".format(year)\n",
    "html = urlopen(url)\n",
    "soup = BeautifulSoup(html)"
   ]
  },
  {
   "cell_type": "code",
   "execution_count": 4,
   "id": "c60411e4",
   "metadata": {},
   "outputs": [
    {
     "data": {
      "text/plain": [
       "[<tr>\n",
       " <th aria-label=\"Rank\" class=\"ranker poptip sort_default_asc show_partial_when_sorting center\" data-stat=\"ranker\" data-tip=\"Rank\" scope=\"col\">Rk</th>\n",
       " <th aria-label=\"Player\" class=\"poptip sort_default_asc center\" data-stat=\"player\" scope=\"col\">Player</th>\n",
       " <th aria-label=\"Position\" class=\"poptip sort_default_asc center\" data-stat=\"pos\" data-tip=\"Position\" scope=\"col\">Pos</th>\n",
       " <th aria-label=\"Player's age on February 1 of the season\" class=\"poptip sort_default_asc center\" data-stat=\"age\" data-tip=\"Player's age on February 1 of the season\" scope=\"col\">Age</th>\n",
       " <th aria-label=\"Team\" class=\"poptip sort_default_asc center\" data-stat=\"team_id\" data-tip=\"Team\" scope=\"col\">Tm</th>\n",
       " <th aria-label=\"Games\" class=\"poptip center\" data-stat=\"g\" data-tip=\"Games\" scope=\"col\">G</th>\n",
       " <th aria-label=\"Games Started\" class=\"poptip center\" data-stat=\"gs\" data-tip=\"Games Started\" scope=\"col\">GS</th>\n",
       " <th aria-label=\"Minutes Played Per Game\" class=\"poptip hide_non_quals center\" data-stat=\"mp_per_g\" data-tip=\"Minutes Played Per Game\" scope=\"col\">MP</th>\n",
       " <th aria-label=\"Field Goals Per Game\" class=\"poptip hide_non_quals center\" data-stat=\"fg_per_g\" data-tip=\"Field Goals Per Game\" scope=\"col\">FG</th>\n",
       " <th aria-label=\"Field Goal Attempts Per Game\" class=\"poptip hide_non_quals center\" data-stat=\"fga_per_g\" data-tip=\"Field Goal Attempts Per Game\" scope=\"col\">FGA</th>\n",
       " <th aria-label=\"Field Goal Percentage\" class=\"poptip hide_non_quals center\" data-stat=\"fg_pct\" data-tip=\"Field Goal Percentage\" scope=\"col\">FG%</th>\n",
       " <th aria-label=\"3-Point Field Goals Per Game\" class=\"poptip hide_non_quals center\" data-stat=\"fg3_per_g\" data-tip=\"3-Point Field Goals Per Game\" scope=\"col\">3P</th>\n",
       " <th aria-label=\"3-Point Field Goal Attempts Per Game\" class=\"poptip hide_non_quals center\" data-stat=\"fg3a_per_g\" data-tip=\"3-Point Field Goal Attempts Per Game\" scope=\"col\">3PA</th>\n",
       " <th aria-label=\"3-Point Field Goal Percentage\" class=\"poptip hide_non_quals center\" data-stat=\"fg3_pct\" data-tip=\"3-Point Field Goal Percentage\" scope=\"col\">3P%</th>\n",
       " <th aria-label=\"2-Point Field Goals Per Game\" class=\"poptip hide_non_quals center\" data-stat=\"fg2_per_g\" data-tip=\"2-Point Field Goals Per Game\" scope=\"col\">2P</th>\n",
       " <th aria-label=\"2-Point Field Goal Attempts Per Game\" class=\"poptip hide_non_quals center\" data-stat=\"fg2a_per_g\" data-tip=\"2-Point Field Goal Attempts Per Game\" scope=\"col\">2PA</th>\n",
       " <th aria-label=\"2-Point Field Goal Percentage\" class=\"poptip hide_non_quals center\" data-stat=\"fg2_pct\" data-tip=\"2-Point Field Goal Percentage\" scope=\"col\">2P%</th>\n",
       " <th aria-label=\"Effective Field Goal Percentage\" class=\"poptip hide_non_quals center\" data-stat=\"efg_pct\" data-tip=\"&lt;strong&gt;Effective Field Goal Percentage&lt;/strong&gt;&lt;br&gt;This statistic adjusts for the fact that a 3-point field goal is worth one more point than a 2-point field goal.\" scope=\"col\">eFG%</th>\n",
       " <th aria-label=\"Free Throws Per Game\" class=\"poptip hide_non_quals center\" data-stat=\"ft_per_g\" data-tip=\"Free Throws Per Game\" scope=\"col\">FT</th>\n",
       " <th aria-label=\"Free Throw Attempts Per Game\" class=\"poptip hide_non_quals center\" data-stat=\"fta_per_g\" data-tip=\"Free Throw Attempts Per Game\" scope=\"col\">FTA</th>\n",
       " <th aria-label=\"Free Throw Percentage\" class=\"poptip hide_non_quals center\" data-stat=\"ft_pct\" data-tip=\"Free Throw Percentage\" scope=\"col\">FT%</th>\n",
       " <th aria-label=\"Offensive Rebounds Per Game\" class=\"poptip hide_non_quals center\" data-stat=\"orb_per_g\" data-tip=\"Offensive Rebounds Per Game\" scope=\"col\">ORB</th>\n",
       " <th aria-label=\"Defensive Rebounds Per Game\" class=\"poptip hide_non_quals center\" data-stat=\"drb_per_g\" data-tip=\"Defensive Rebounds Per Game\" scope=\"col\">DRB</th>\n",
       " <th aria-label=\"Total Rebounds Per Game\" class=\"poptip hide_non_quals center\" data-stat=\"trb_per_g\" data-tip=\"Total Rebounds Per Game\" scope=\"col\">TRB</th>\n",
       " <th aria-label=\"Assists Per Game\" class=\"poptip hide_non_quals center\" data-stat=\"ast_per_g\" data-tip=\"Assists Per Game\" scope=\"col\">AST</th>\n",
       " <th aria-label=\"Steals Per Game\" class=\"poptip hide_non_quals center\" data-stat=\"stl_per_g\" data-tip=\"Steals Per Game\" scope=\"col\">STL</th>\n",
       " <th aria-label=\"Blocks Per Game\" class=\"poptip hide_non_quals center\" data-stat=\"blk_per_g\" data-tip=\"Blocks Per Game\" scope=\"col\">BLK</th>\n",
       " <th aria-label=\"Turnovers Per Game\" class=\"poptip hide_non_quals center\" data-stat=\"tov_per_g\" data-tip=\"Turnovers Per Game\" scope=\"col\">TOV</th>\n",
       " <th aria-label=\"Personal Fouls Per Game\" class=\"poptip hide_non_quals center\" data-stat=\"pf_per_g\" data-tip=\"Personal Fouls Per Game\" scope=\"col\">PF</th>\n",
       " <th aria-label=\"Points Per Game\" class=\"poptip hide_non_quals center\" data-stat=\"pts_per_g\" data-tip=\"Points Per Game\" scope=\"col\">PTS</th>\n",
       " </tr>,\n",
       " <tr class=\"full_table\"><th class=\"right\" csk=\"1\" data-stat=\"ranker\" scope=\"row\">1</th><td class=\"left\" csk=\"Achiuwa,Precious\" data-append-csv=\"achiupr01\" data-stat=\"player\"><a href=\"/players/a/achiupr01.html\">Precious Achiuwa</a></td><td class=\"center\" data-stat=\"pos\">PF</td><td class=\"right\" data-stat=\"age\">21</td><td class=\"left\" data-stat=\"team_id\"><a href=\"/teams/MIA/2021.html\">MIA</a></td><td class=\"right\" data-stat=\"g\">61</td><td class=\"right\" data-stat=\"gs\">4</td><td class=\"right\" data-stat=\"mp_per_g\">12.1</td><td class=\"right\" data-stat=\"fg_per_g\">2.0</td><td class=\"right\" data-stat=\"fga_per_g\">3.7</td><td class=\"right non_qual\" data-stat=\"fg_pct\">.544</td><td class=\"right iz\" data-stat=\"fg3_per_g\">0.0</td><td class=\"right iz\" data-stat=\"fg3a_per_g\">0.0</td><td class=\"right non_qual iz\" data-stat=\"fg3_pct\">.000</td><td class=\"right\" data-stat=\"fg2_per_g\">2.0</td><td class=\"right\" data-stat=\"fg2a_per_g\">3.7</td><td class=\"right non_qual\" data-stat=\"fg2_pct\">.546</td><td class=\"right non_qual\" data-stat=\"efg_pct\">.544</td><td class=\"right\" data-stat=\"ft_per_g\">0.9</td><td class=\"right\" data-stat=\"fta_per_g\">1.8</td><td class=\"right non_qual\" data-stat=\"ft_pct\">.509</td><td class=\"right\" data-stat=\"orb_per_g\">1.2</td><td class=\"right\" data-stat=\"drb_per_g\">2.2</td><td class=\"right\" data-stat=\"trb_per_g\">3.4</td><td class=\"right\" data-stat=\"ast_per_g\">0.5</td><td class=\"right\" data-stat=\"stl_per_g\">0.3</td><td class=\"right\" data-stat=\"blk_per_g\">0.5</td><td class=\"right\" data-stat=\"tov_per_g\">0.7</td><td class=\"right\" data-stat=\"pf_per_g\">1.5</td><td class=\"right\" data-stat=\"pts_per_g\">5.0</td></tr>]"
      ]
     },
     "execution_count": 4,
     "metadata": {},
     "output_type": "execute_result"
    }
   ],
   "source": [
    "soup.findAll('tr',limit=2)"
   ]
  },
  {
   "cell_type": "code",
   "execution_count": 5,
   "id": "b609d0ae",
   "metadata": {},
   "outputs": [],
   "source": [
    "headers = []\n",
    "for head in soup.findAll('tr',limit=2)[0].findAll('th'):\n",
    "    headers.append(head.getText())"
   ]
  },
  {
   "cell_type": "code",
   "execution_count": 6,
   "id": "7ac071f4",
   "metadata": {},
   "outputs": [
    {
     "data": {
      "text/plain": [
       "['Player',\n",
       " 'Pos',\n",
       " 'Age',\n",
       " 'Tm',\n",
       " 'G',\n",
       " 'GS',\n",
       " 'MP',\n",
       " 'FG',\n",
       " 'FGA',\n",
       " 'FG%',\n",
       " '3P',\n",
       " '3PA',\n",
       " '3P%',\n",
       " '2P',\n",
       " '2PA',\n",
       " '2P%',\n",
       " 'eFG%',\n",
       " 'FT',\n",
       " 'FTA',\n",
       " 'FT%',\n",
       " 'ORB',\n",
       " 'DRB',\n",
       " 'TRB',\n",
       " 'AST',\n",
       " 'STL',\n",
       " 'BLK',\n",
       " 'TOV',\n",
       " 'PF',\n",
       " 'PTS']"
      ]
     },
     "execution_count": 6,
     "metadata": {},
     "output_type": "execute_result"
    }
   ],
   "source": [
    "headers = headers[1:]\n",
    "headers"
   ]
  },
  {
   "cell_type": "code",
   "execution_count": 7,
   "id": "b6350961",
   "metadata": {},
   "outputs": [],
   "source": [
    "rows = soup.findAll('tr')[1:]\n",
    "player_stats = [[td.getText() for td in rows[i].findAll('td')] for i in range(len(rows))]"
   ]
  },
  {
   "cell_type": "code",
   "execution_count": 8,
   "id": "83fd0a03",
   "metadata": {
    "scrolled": false
   },
   "outputs": [
    {
     "data": {
      "text/html": [
       "<div>\n",
       "<style scoped>\n",
       "    .dataframe tbody tr th:only-of-type {\n",
       "        vertical-align: middle;\n",
       "    }\n",
       "\n",
       "    .dataframe tbody tr th {\n",
       "        vertical-align: top;\n",
       "    }\n",
       "\n",
       "    .dataframe thead th {\n",
       "        text-align: right;\n",
       "    }\n",
       "</style>\n",
       "<table border=\"1\" class=\"dataframe\">\n",
       "  <thead>\n",
       "    <tr style=\"text-align: right;\">\n",
       "      <th></th>\n",
       "      <th>Player</th>\n",
       "      <th>Pos</th>\n",
       "      <th>Age</th>\n",
       "      <th>Tm</th>\n",
       "      <th>G</th>\n",
       "      <th>GS</th>\n",
       "      <th>MP</th>\n",
       "      <th>FG</th>\n",
       "      <th>FGA</th>\n",
       "      <th>FG%</th>\n",
       "      <th>...</th>\n",
       "      <th>FT%</th>\n",
       "      <th>ORB</th>\n",
       "      <th>DRB</th>\n",
       "      <th>TRB</th>\n",
       "      <th>AST</th>\n",
       "      <th>STL</th>\n",
       "      <th>BLK</th>\n",
       "      <th>TOV</th>\n",
       "      <th>PF</th>\n",
       "      <th>PTS</th>\n",
       "    </tr>\n",
       "  </thead>\n",
       "  <tbody>\n",
       "    <tr>\n",
       "      <th>0</th>\n",
       "      <td>Precious Achiuwa</td>\n",
       "      <td>PF</td>\n",
       "      <td>21</td>\n",
       "      <td>MIA</td>\n",
       "      <td>61</td>\n",
       "      <td>4</td>\n",
       "      <td>12.1</td>\n",
       "      <td>2.0</td>\n",
       "      <td>3.7</td>\n",
       "      <td>.544</td>\n",
       "      <td>...</td>\n",
       "      <td>.509</td>\n",
       "      <td>1.2</td>\n",
       "      <td>2.2</td>\n",
       "      <td>3.4</td>\n",
       "      <td>0.5</td>\n",
       "      <td>0.3</td>\n",
       "      <td>0.5</td>\n",
       "      <td>0.7</td>\n",
       "      <td>1.5</td>\n",
       "      <td>5.0</td>\n",
       "    </tr>\n",
       "    <tr>\n",
       "      <th>1</th>\n",
       "      <td>Jaylen Adams</td>\n",
       "      <td>PG</td>\n",
       "      <td>24</td>\n",
       "      <td>MIL</td>\n",
       "      <td>7</td>\n",
       "      <td>0</td>\n",
       "      <td>2.6</td>\n",
       "      <td>0.1</td>\n",
       "      <td>1.1</td>\n",
       "      <td>.125</td>\n",
       "      <td>...</td>\n",
       "      <td></td>\n",
       "      <td>0.0</td>\n",
       "      <td>0.4</td>\n",
       "      <td>0.4</td>\n",
       "      <td>0.3</td>\n",
       "      <td>0.0</td>\n",
       "      <td>0.0</td>\n",
       "      <td>0.0</td>\n",
       "      <td>0.1</td>\n",
       "      <td>0.3</td>\n",
       "    </tr>\n",
       "    <tr>\n",
       "      <th>2</th>\n",
       "      <td>Steven Adams</td>\n",
       "      <td>C</td>\n",
       "      <td>27</td>\n",
       "      <td>NOP</td>\n",
       "      <td>58</td>\n",
       "      <td>58</td>\n",
       "      <td>27.7</td>\n",
       "      <td>3.3</td>\n",
       "      <td>5.3</td>\n",
       "      <td>.614</td>\n",
       "      <td>...</td>\n",
       "      <td>.444</td>\n",
       "      <td>3.7</td>\n",
       "      <td>5.2</td>\n",
       "      <td>8.9</td>\n",
       "      <td>1.9</td>\n",
       "      <td>0.9</td>\n",
       "      <td>0.7</td>\n",
       "      <td>1.3</td>\n",
       "      <td>1.9</td>\n",
       "      <td>7.6</td>\n",
       "    </tr>\n",
       "    <tr>\n",
       "      <th>3</th>\n",
       "      <td>Bam Adebayo</td>\n",
       "      <td>C</td>\n",
       "      <td>23</td>\n",
       "      <td>MIA</td>\n",
       "      <td>64</td>\n",
       "      <td>64</td>\n",
       "      <td>33.5</td>\n",
       "      <td>7.1</td>\n",
       "      <td>12.5</td>\n",
       "      <td>.570</td>\n",
       "      <td>...</td>\n",
       "      <td>.799</td>\n",
       "      <td>2.2</td>\n",
       "      <td>6.7</td>\n",
       "      <td>9.0</td>\n",
       "      <td>5.4</td>\n",
       "      <td>1.2</td>\n",
       "      <td>1.0</td>\n",
       "      <td>2.6</td>\n",
       "      <td>2.3</td>\n",
       "      <td>18.7</td>\n",
       "    </tr>\n",
       "    <tr>\n",
       "      <th>4</th>\n",
       "      <td>LaMarcus Aldridge</td>\n",
       "      <td>C</td>\n",
       "      <td>35</td>\n",
       "      <td>TOT</td>\n",
       "      <td>26</td>\n",
       "      <td>23</td>\n",
       "      <td>25.9</td>\n",
       "      <td>5.4</td>\n",
       "      <td>11.4</td>\n",
       "      <td>.473</td>\n",
       "      <td>...</td>\n",
       "      <td>.872</td>\n",
       "      <td>0.7</td>\n",
       "      <td>3.8</td>\n",
       "      <td>4.5</td>\n",
       "      <td>1.9</td>\n",
       "      <td>0.4</td>\n",
       "      <td>1.1</td>\n",
       "      <td>1.0</td>\n",
       "      <td>1.8</td>\n",
       "      <td>13.5</td>\n",
       "    </tr>\n",
       "    <tr>\n",
       "      <th>...</th>\n",
       "      <td>...</td>\n",
       "      <td>...</td>\n",
       "      <td>...</td>\n",
       "      <td>...</td>\n",
       "      <td>...</td>\n",
       "      <td>...</td>\n",
       "      <td>...</td>\n",
       "      <td>...</td>\n",
       "      <td>...</td>\n",
       "      <td>...</td>\n",
       "      <td>...</td>\n",
       "      <td>...</td>\n",
       "      <td>...</td>\n",
       "      <td>...</td>\n",
       "      <td>...</td>\n",
       "      <td>...</td>\n",
       "      <td>...</td>\n",
       "      <td>...</td>\n",
       "      <td>...</td>\n",
       "      <td>...</td>\n",
       "      <td>...</td>\n",
       "    </tr>\n",
       "    <tr>\n",
       "      <th>726</th>\n",
       "      <td>Delon Wright</td>\n",
       "      <td>PG</td>\n",
       "      <td>28</td>\n",
       "      <td>SAC</td>\n",
       "      <td>27</td>\n",
       "      <td>8</td>\n",
       "      <td>25.8</td>\n",
       "      <td>3.9</td>\n",
       "      <td>8.3</td>\n",
       "      <td>.462</td>\n",
       "      <td>...</td>\n",
       "      <td>.833</td>\n",
       "      <td>1.0</td>\n",
       "      <td>2.9</td>\n",
       "      <td>3.9</td>\n",
       "      <td>3.6</td>\n",
       "      <td>1.6</td>\n",
       "      <td>0.4</td>\n",
       "      <td>1.3</td>\n",
       "      <td>1.1</td>\n",
       "      <td>10.0</td>\n",
       "    </tr>\n",
       "    <tr>\n",
       "      <th>727</th>\n",
       "      <td>Thaddeus Young</td>\n",
       "      <td>PF</td>\n",
       "      <td>32</td>\n",
       "      <td>CHI</td>\n",
       "      <td>68</td>\n",
       "      <td>23</td>\n",
       "      <td>24.3</td>\n",
       "      <td>5.4</td>\n",
       "      <td>9.7</td>\n",
       "      <td>.559</td>\n",
       "      <td>...</td>\n",
       "      <td>.628</td>\n",
       "      <td>2.5</td>\n",
       "      <td>3.8</td>\n",
       "      <td>6.2</td>\n",
       "      <td>4.3</td>\n",
       "      <td>1.1</td>\n",
       "      <td>0.6</td>\n",
       "      <td>2.0</td>\n",
       "      <td>2.2</td>\n",
       "      <td>12.1</td>\n",
       "    </tr>\n",
       "    <tr>\n",
       "      <th>728</th>\n",
       "      <td>Trae Young</td>\n",
       "      <td>PG</td>\n",
       "      <td>22</td>\n",
       "      <td>ATL</td>\n",
       "      <td>63</td>\n",
       "      <td>63</td>\n",
       "      <td>33.7</td>\n",
       "      <td>7.7</td>\n",
       "      <td>17.7</td>\n",
       "      <td>.438</td>\n",
       "      <td>...</td>\n",
       "      <td>.886</td>\n",
       "      <td>0.6</td>\n",
       "      <td>3.3</td>\n",
       "      <td>3.9</td>\n",
       "      <td>9.4</td>\n",
       "      <td>0.8</td>\n",
       "      <td>0.2</td>\n",
       "      <td>4.1</td>\n",
       "      <td>1.8</td>\n",
       "      <td>25.3</td>\n",
       "    </tr>\n",
       "    <tr>\n",
       "      <th>729</th>\n",
       "      <td>Cody Zeller</td>\n",
       "      <td>C</td>\n",
       "      <td>28</td>\n",
       "      <td>CHO</td>\n",
       "      <td>48</td>\n",
       "      <td>21</td>\n",
       "      <td>20.9</td>\n",
       "      <td>3.8</td>\n",
       "      <td>6.8</td>\n",
       "      <td>.559</td>\n",
       "      <td>...</td>\n",
       "      <td>.714</td>\n",
       "      <td>2.5</td>\n",
       "      <td>4.4</td>\n",
       "      <td>6.8</td>\n",
       "      <td>1.8</td>\n",
       "      <td>0.6</td>\n",
       "      <td>0.4</td>\n",
       "      <td>1.1</td>\n",
       "      <td>2.5</td>\n",
       "      <td>9.4</td>\n",
       "    </tr>\n",
       "    <tr>\n",
       "      <th>730</th>\n",
       "      <td>Ivica Zubac</td>\n",
       "      <td>C</td>\n",
       "      <td>23</td>\n",
       "      <td>LAC</td>\n",
       "      <td>72</td>\n",
       "      <td>33</td>\n",
       "      <td>22.3</td>\n",
       "      <td>3.6</td>\n",
       "      <td>5.5</td>\n",
       "      <td>.652</td>\n",
       "      <td>...</td>\n",
       "      <td>.789</td>\n",
       "      <td>2.6</td>\n",
       "      <td>4.6</td>\n",
       "      <td>7.2</td>\n",
       "      <td>1.3</td>\n",
       "      <td>0.3</td>\n",
       "      <td>0.9</td>\n",
       "      <td>1.1</td>\n",
       "      <td>2.6</td>\n",
       "      <td>9.0</td>\n",
       "    </tr>\n",
       "  </tbody>\n",
       "</table>\n",
       "<p>731 rows × 29 columns</p>\n",
       "</div>"
      ],
      "text/plain": [
       "                Player Pos Age   Tm   G  GS    MP   FG   FGA   FG%  ...   FT%  \\\n",
       "0     Precious Achiuwa  PF  21  MIA  61   4  12.1  2.0   3.7  .544  ...  .509   \n",
       "1         Jaylen Adams  PG  24  MIL   7   0   2.6  0.1   1.1  .125  ...         \n",
       "2         Steven Adams   C  27  NOP  58  58  27.7  3.3   5.3  .614  ...  .444   \n",
       "3          Bam Adebayo   C  23  MIA  64  64  33.5  7.1  12.5  .570  ...  .799   \n",
       "4    LaMarcus Aldridge   C  35  TOT  26  23  25.9  5.4  11.4  .473  ...  .872   \n",
       "..                 ...  ..  ..  ...  ..  ..   ...  ...   ...   ...  ...   ...   \n",
       "726       Delon Wright  PG  28  SAC  27   8  25.8  3.9   8.3  .462  ...  .833   \n",
       "727     Thaddeus Young  PF  32  CHI  68  23  24.3  5.4   9.7  .559  ...  .628   \n",
       "728         Trae Young  PG  22  ATL  63  63  33.7  7.7  17.7  .438  ...  .886   \n",
       "729        Cody Zeller   C  28  CHO  48  21  20.9  3.8   6.8  .559  ...  .714   \n",
       "730        Ivica Zubac   C  23  LAC  72  33  22.3  3.6   5.5  .652  ...  .789   \n",
       "\n",
       "     ORB  DRB  TRB  AST  STL  BLK  TOV   PF   PTS  \n",
       "0    1.2  2.2  3.4  0.5  0.3  0.5  0.7  1.5   5.0  \n",
       "1    0.0  0.4  0.4  0.3  0.0  0.0  0.0  0.1   0.3  \n",
       "2    3.7  5.2  8.9  1.9  0.9  0.7  1.3  1.9   7.6  \n",
       "3    2.2  6.7  9.0  5.4  1.2  1.0  2.6  2.3  18.7  \n",
       "4    0.7  3.8  4.5  1.9  0.4  1.1  1.0  1.8  13.5  \n",
       "..   ...  ...  ...  ...  ...  ...  ...  ...   ...  \n",
       "726  1.0  2.9  3.9  3.6  1.6  0.4  1.3  1.1  10.0  \n",
       "727  2.5  3.8  6.2  4.3  1.1  0.6  2.0  2.2  12.1  \n",
       "728  0.6  3.3  3.9  9.4  0.8  0.2  4.1  1.8  25.3  \n",
       "729  2.5  4.4  6.8  1.8  0.6  0.4  1.1  2.5   9.4  \n",
       "730  2.6  4.6  7.2  1.3  0.3  0.9  1.1  2.6   9.0  \n",
       "\n",
       "[731 rows x 29 columns]"
      ]
     },
     "execution_count": 8,
     "metadata": {},
     "output_type": "execute_result"
    }
   ],
   "source": [
    "stat = pd.DataFrame(player_stats, columns = headers)\n",
    "stat"
   ]
  },
  {
   "cell_type": "markdown",
   "id": "cb22e3b4",
   "metadata": {},
   "source": [
    "# Cleaning and Normalizing"
   ]
  },
  {
   "cell_type": "code",
   "execution_count": 9,
   "id": "a9a7fd0b",
   "metadata": {},
   "outputs": [
    {
     "data": {
      "text/plain": [
       "Player    26\n",
       "Pos       26\n",
       "Age       26\n",
       "Tm        26\n",
       "G         26\n",
       "GS        26\n",
       "MP        26\n",
       "FG        26\n",
       "FGA       26\n",
       "FG%       26\n",
       "3P        26\n",
       "3PA       26\n",
       "3P%       26\n",
       "2P        26\n",
       "2PA       26\n",
       "2P%       26\n",
       "eFG%      26\n",
       "FT        26\n",
       "FTA       26\n",
       "FT%       26\n",
       "ORB       26\n",
       "DRB       26\n",
       "TRB       26\n",
       "AST       26\n",
       "STL       26\n",
       "BLK       26\n",
       "TOV       26\n",
       "PF        26\n",
       "PTS       26\n",
       "dtype: int64"
      ]
     },
     "execution_count": 9,
     "metadata": {},
     "output_type": "execute_result"
    }
   ],
   "source": [
    "stat.isnull().sum()"
   ]
  },
  {
   "cell_type": "code",
   "execution_count": 10,
   "id": "a32cc189",
   "metadata": {},
   "outputs": [],
   "source": [
    "stat = stat.dropna()"
   ]
  },
  {
   "cell_type": "code",
   "execution_count": 11,
   "id": "0dd70d89",
   "metadata": {},
   "outputs": [],
   "source": [
    "#stat = stat.drop(['Age'],axis=0)"
   ]
  },
  {
   "cell_type": "code",
   "execution_count": 12,
   "id": "0e9aa417",
   "metadata": {},
   "outputs": [],
   "source": [
    "x = stat.drop(['Player','Pos','Tm','FG','FGA','3P','3PA','2P','2PA','FT','FTA','PTS'],axis=1)\n",
    "y = stat.loc[:,['PTS']]"
   ]
  },
  {
   "cell_type": "code",
   "execution_count": 13,
   "id": "22291443",
   "metadata": {},
   "outputs": [],
   "source": [
    "x = x.apply(pd.to_numeric).fillna(0)\n",
    "y = y.apply(pd.to_numeric).fillna(0)"
   ]
  },
  {
   "cell_type": "code",
   "execution_count": 14,
   "id": "04b7329e",
   "metadata": {},
   "outputs": [],
   "source": [
    "def norm(x):\n",
    "    mu = np.mean(x, axis = 0)  \n",
    "    sigma = np.std(x, axis= 0)\n",
    "    x_norm = (x - mu)/sigma\n",
    "    return x_norm, mu, sigma"
   ]
  },
  {
   "cell_type": "code",
   "execution_count": 15,
   "id": "7b96ba90",
   "metadata": {},
   "outputs": [],
   "source": [
    "x_norm, mu, sigma = norm(x.values)"
   ]
  },
  {
   "cell_type": "code",
   "execution_count": 16,
   "id": "3ea65152",
   "metadata": {},
   "outputs": [
    {
     "data": {
      "text/plain": [
       "705"
      ]
     },
     "execution_count": 16,
     "metadata": {},
     "output_type": "execute_result"
    }
   ],
   "source": [
    "m = len(y)\n",
    "m"
   ]
  },
  {
   "cell_type": "markdown",
   "id": "d95f3b7f",
   "metadata": {},
   "source": [
    "# Splitting Data and Building Model"
   ]
  },
  {
   "cell_type": "code",
   "execution_count": 17,
   "id": "2724e534",
   "metadata": {},
   "outputs": [],
   "source": [
    "x_train, x_test, y_train, y_test = train_test_split(x_norm,y,test_size=0.3)"
   ]
  },
  {
   "cell_type": "code",
   "execution_count": 18,
   "id": "8979c28e",
   "metadata": {},
   "outputs": [
    {
     "data": {
      "text/plain": [
       "LinearRegression()"
      ]
     },
     "execution_count": 18,
     "metadata": {},
     "output_type": "execute_result"
    }
   ],
   "source": [
    "regressor2 = LinearRegression()\n",
    "regressor2.fit(x_train,y_train)"
   ]
  },
  {
   "cell_type": "code",
   "execution_count": 19,
   "id": "1033c286",
   "metadata": {},
   "outputs": [],
   "source": [
    "y_prediction2 = regressor2.predict(x_test)"
   ]
  },
  {
   "cell_type": "code",
   "execution_count": 20,
   "id": "87456600",
   "metadata": {},
   "outputs": [
    {
     "data": {
      "text/html": [
       "<div>\n",
       "<style scoped>\n",
       "    .dataframe tbody tr th:only-of-type {\n",
       "        vertical-align: middle;\n",
       "    }\n",
       "\n",
       "    .dataframe tbody tr th {\n",
       "        vertical-align: top;\n",
       "    }\n",
       "\n",
       "    .dataframe thead th {\n",
       "        text-align: right;\n",
       "    }\n",
       "</style>\n",
       "<table border=\"1\" class=\"dataframe\">\n",
       "  <thead>\n",
       "    <tr style=\"text-align: right;\">\n",
       "      <th></th>\n",
       "      <th>PTS</th>\n",
       "    </tr>\n",
       "  </thead>\n",
       "  <tbody>\n",
       "    <tr>\n",
       "      <th>count</th>\n",
       "      <td>212.000000</td>\n",
       "    </tr>\n",
       "    <tr>\n",
       "      <th>mean</th>\n",
       "      <td>7.804717</td>\n",
       "    </tr>\n",
       "    <tr>\n",
       "      <th>std</th>\n",
       "      <td>5.975295</td>\n",
       "    </tr>\n",
       "    <tr>\n",
       "      <th>min</th>\n",
       "      <td>0.100000</td>\n",
       "    </tr>\n",
       "    <tr>\n",
       "      <th>25%</th>\n",
       "      <td>3.350000</td>\n",
       "    </tr>\n",
       "    <tr>\n",
       "      <th>50%</th>\n",
       "      <td>6.550000</td>\n",
       "    </tr>\n",
       "    <tr>\n",
       "      <th>75%</th>\n",
       "      <td>10.125000</td>\n",
       "    </tr>\n",
       "    <tr>\n",
       "      <th>max</th>\n",
       "      <td>28.500000</td>\n",
       "    </tr>\n",
       "  </tbody>\n",
       "</table>\n",
       "</div>"
      ],
      "text/plain": [
       "              PTS\n",
       "count  212.000000\n",
       "mean     7.804717\n",
       "std      5.975295\n",
       "min      0.100000\n",
       "25%      3.350000\n",
       "50%      6.550000\n",
       "75%     10.125000\n",
       "max     28.500000"
      ]
     },
     "execution_count": 20,
     "metadata": {},
     "output_type": "execute_result"
    }
   ],
   "source": [
    "y_test.describe()"
   ]
  },
  {
   "cell_type": "code",
   "execution_count": 21,
   "id": "88b17653",
   "metadata": {},
   "outputs": [
    {
     "name": "stdout",
     "output_type": "stream",
     "text": [
      "2.2756857904302774\n"
     ]
    }
   ],
   "source": [
    "RMSE = sqrt(mean_squared_error(y_true = y_test, y_pred = y_prediction2))\n",
    "print(RMSE)"
   ]
  },
  {
   "cell_type": "code",
   "execution_count": 22,
   "id": "37e49baa",
   "metadata": {},
   "outputs": [],
   "source": [
    "pts_prediction = pd.DataFrame(y_prediction2)"
   ]
  },
  {
   "cell_type": "code",
   "execution_count": 23,
   "id": "4c8933f0",
   "metadata": {},
   "outputs": [],
   "source": [
    "pts_prediction.columns = ['PTS']"
   ]
  },
  {
   "cell_type": "code",
   "execution_count": 24,
   "id": "1079bfcd",
   "metadata": {
    "scrolled": true
   },
   "outputs": [
    {
     "data": {
      "text/html": [
       "<div>\n",
       "<style scoped>\n",
       "    .dataframe tbody tr th:only-of-type {\n",
       "        vertical-align: middle;\n",
       "    }\n",
       "\n",
       "    .dataframe tbody tr th {\n",
       "        vertical-align: top;\n",
       "    }\n",
       "\n",
       "    .dataframe thead th {\n",
       "        text-align: right;\n",
       "    }\n",
       "</style>\n",
       "<table border=\"1\" class=\"dataframe\">\n",
       "  <thead>\n",
       "    <tr style=\"text-align: right;\">\n",
       "      <th></th>\n",
       "      <th>PTS</th>\n",
       "    </tr>\n",
       "  </thead>\n",
       "  <tbody>\n",
       "    <tr>\n",
       "      <th>count</th>\n",
       "      <td>212.000000</td>\n",
       "    </tr>\n",
       "    <tr>\n",
       "      <th>mean</th>\n",
       "      <td>7.912728</td>\n",
       "    </tr>\n",
       "    <tr>\n",
       "      <th>std</th>\n",
       "      <td>5.786379</td>\n",
       "    </tr>\n",
       "    <tr>\n",
       "      <th>min</th>\n",
       "      <td>-3.256311</td>\n",
       "    </tr>\n",
       "    <tr>\n",
       "      <th>25%</th>\n",
       "      <td>3.528595</td>\n",
       "    </tr>\n",
       "    <tr>\n",
       "      <th>50%</th>\n",
       "      <td>7.079613</td>\n",
       "    </tr>\n",
       "    <tr>\n",
       "      <th>75%</th>\n",
       "      <td>11.852262</td>\n",
       "    </tr>\n",
       "    <tr>\n",
       "      <th>max</th>\n",
       "      <td>23.546215</td>\n",
       "    </tr>\n",
       "  </tbody>\n",
       "</table>\n",
       "</div>"
      ],
      "text/plain": [
       "              PTS\n",
       "count  212.000000\n",
       "mean     7.912728\n",
       "std      5.786379\n",
       "min     -3.256311\n",
       "25%      3.528595\n",
       "50%      7.079613\n",
       "75%     11.852262\n",
       "max     23.546215"
      ]
     },
     "execution_count": 24,
     "metadata": {},
     "output_type": "execute_result"
    }
   ],
   "source": [
    "pts_prediction.describe()"
   ]
  },
  {
   "cell_type": "code",
   "execution_count": 25,
   "id": "0a55ce68",
   "metadata": {},
   "outputs": [],
   "source": [
    "pts_prediction = pts_prediction.set_index(y_test.index)"
   ]
  },
  {
   "cell_type": "code",
   "execution_count": 26,
   "id": "87a07cca",
   "metadata": {},
   "outputs": [],
   "source": [
    "def percent_error(predicted, actual):\n",
    "    perc_error = ((predicted-actual)/actual)*100\n",
    "    print(round(perc_error,4))"
   ]
  },
  {
   "cell_type": "code",
   "execution_count": 27,
   "id": "834ea625",
   "metadata": {},
   "outputs": [
    {
     "data": {
      "text/plain": [
       "PTS    7.912728\n",
       "Name: mean, dtype: float64"
      ]
     },
     "execution_count": 27,
     "metadata": {},
     "output_type": "execute_result"
    }
   ],
   "source": [
    "predicted_mean = pts_prediction.describe().iloc[1]\n",
    "predicted_mean"
   ]
  },
  {
   "cell_type": "code",
   "execution_count": 28,
   "id": "44b7e3fa",
   "metadata": {},
   "outputs": [
    {
     "data": {
      "text/plain": [
       "PTS    8.616596\n",
       "Name: mean, dtype: float64"
      ]
     },
     "execution_count": 28,
     "metadata": {},
     "output_type": "execute_result"
    }
   ],
   "source": [
    "population_mean = y.describe().iloc[1]\n",
    "population_mean"
   ]
  },
  {
   "cell_type": "code",
   "execution_count": 29,
   "id": "5642deb8",
   "metadata": {},
   "outputs": [
    {
     "data": {
      "text/plain": [
       "7.804716981132075"
      ]
     },
     "execution_count": 29,
     "metadata": {},
     "output_type": "execute_result"
    }
   ],
   "source": [
    "y_test_mean = y_test.describe().iloc[1]\n",
    "y_test_mean[0]"
   ]
  },
  {
   "cell_type": "code",
   "execution_count": 30,
   "id": "903c1f9d",
   "metadata": {},
   "outputs": [
    {
     "name": "stdout",
     "output_type": "stream",
     "text": [
      "PTS    1.3839\n",
      "Name: mean, dtype: float64\n"
     ]
    }
   ],
   "source": [
    "percent_error(predicted_mean,y_test_mean)"
   ]
  },
  {
   "cell_type": "code",
   "execution_count": 31,
   "id": "c6b8897c",
   "metadata": {},
   "outputs": [
    {
     "name": "stdout",
     "output_type": "stream",
     "text": [
      "PTS   -8.1688\n",
      "Name: mean, dtype: float64\n"
     ]
    }
   ],
   "source": [
    "percent_error(predicted_mean,population_mean)"
   ]
  },
  {
   "cell_type": "code",
   "execution_count": 32,
   "id": "e354559c",
   "metadata": {},
   "outputs": [
    {
     "data": {
      "text/plain": [
       "array([[ 5.1],\n",
       "       [ 7.7],\n",
       "       [20.3],\n",
       "       [ 0.8],\n",
       "       [20.4]])"
      ]
     },
     "execution_count": 32,
     "metadata": {},
     "output_type": "execute_result"
    }
   ],
   "source": [
    "y_test_array = y_test.to_numpy()\n",
    "y_test_array[:5]"
   ]
  },
  {
   "cell_type": "code",
   "execution_count": 33,
   "id": "8aed67b0",
   "metadata": {},
   "outputs": [
    {
     "data": {
      "text/plain": [
       "array([[ 5.60923969],\n",
       "       [11.89656208],\n",
       "       [22.77810195],\n",
       "       [ 0.35435045],\n",
       "       [19.52031881]])"
      ]
     },
     "execution_count": 33,
     "metadata": {},
     "output_type": "execute_result"
    }
   ],
   "source": [
    "pts_prediction_array = pts_prediction.to_numpy()\n",
    "pts_prediction_array[:5]"
   ]
  },
  {
   "cell_type": "code",
   "execution_count": 34,
   "id": "ce51c326",
   "metadata": {
    "scrolled": true
   },
   "outputs": [
    {
     "data": {
      "text/plain": [
       "0.9254398990978354"
      ]
     },
     "execution_count": 34,
     "metadata": {},
     "output_type": "execute_result"
    },
    {
     "data": {
      "image/png": "[encoded data removed]",
      "text/plain": [
       "<Figure size 432x288 with 1 Axes>"
      ]
     },
     "metadata": {
      "needs_background": "light"
     },
     "output_type": "display_data"
    }
   ],
   "source": [
    "plt.scatter(y_test['PTS'],pts_prediction['PTS'])\n",
    "plt.xlabel('y_test points per game')\n",
    "plt.ylabel('predicted points per game')\n",
    "plt.title('predicted vs actual points per game (Built in Model)')\n",
    "\n",
    "z = np.polyfit(y_test['PTS'], pts_prediction['PTS'], 1)\n",
    "p = np.poly1d(z)\n",
    "plt.plot(y_test['PTS'],p(y_test['PTS']),\"r\")\n",
    "\n",
    "stats.pearsonr(y_test_array.flatten(),pts_prediction_array.flatten())[0]"
   ]
  },
  {
   "cell_type": "markdown",
   "id": "1abcb59c",
   "metadata": {},
   "source": [
    "# Manual Linear Regression Implementation"
   ]
  },
  {
   "cell_type": "code",
   "execution_count": 35,
   "id": "725d11f7",
   "metadata": {},
   "outputs": [],
   "source": [
    "def compute_cost(X, y, theta):\n",
    "    predictions = X.dot(theta)\n",
    "    errors = np.subtract(predictions, y) \n",
    "    sqrErrors = np.square(errors) \n",
    "    J = 1 / (2 * m) * np.sum(sqrErrors)\n",
    "    return J"
   ]
  },
  {
   "cell_type": "code",
   "execution_count": 36,
   "id": "579ed5a2",
   "metadata": {},
   "outputs": [],
   "source": [
    "def gradient_descent(X, y, theta, alpha, iterations):\n",
    "    cost_history = []\n",
    "    for i in range(iterations):\n",
    "        predictions = X.dot(theta)\n",
    "        errors = np.subtract(predictions, y)\n",
    "        sum_delta = (alpha / m) * X.transpose().dot(errors)\n",
    "        theta = theta - sum_delta\n",
    "        cost_history.append(compute_cost(X, y, theta)) \n",
    "    return theta, cost_history"
   ]
  },
  {
   "cell_type": "code",
   "execution_count": 37,
   "id": "761b0eb5",
   "metadata": {},
   "outputs": [],
   "source": [
    "x_norm = np.hstack((np.ones((m,1)), x_norm))\n",
    "x_test = np.hstack((np.ones((len(x_test),1)), x_test))"
   ]
  },
  {
   "cell_type": "code",
   "execution_count": 38,
   "id": "74d468a5",
   "metadata": {},
   "outputs": [],
   "source": [
    "theta = np.zeros(x_norm.shape[1])\n",
    "iterations = 100\n",
    "alpha = 0.15"
   ]
  },
  {
   "cell_type": "code",
   "execution_count": 39,
   "id": "f137be14",
   "metadata": {},
   "outputs": [],
   "source": [
    "theta = theta[:,np.newaxis]"
   ]
  },
  {
   "cell_type": "code",
   "execution_count": 40,
   "id": "dd228051",
   "metadata": {
    "scrolled": true
   },
   "outputs": [],
   "source": [
    "theta, cost_history = gradient_descent(x_norm, y.values, theta, alpha, iterations)"
   ]
  },
  {
   "cell_type": "code",
   "execution_count": 41,
   "id": "a9cfb8f0",
   "metadata": {},
   "outputs": [
    {
     "data": {
      "text/plain": [
       "[31.906097938389475,\n",
       " 23.803028713328732,\n",
       " 18.113042679893425,\n",
       " 14.047531209833847,\n",
       " 11.119948905152079]"
      ]
     },
     "execution_count": 41,
     "metadata": {},
     "output_type": "execute_result"
    }
   ],
   "source": [
    "cost_history[:5]"
   ]
  },
  {
   "cell_type": "code",
   "execution_count": 42,
   "id": "8f8e6400",
   "metadata": {},
   "outputs": [
    {
     "data": {
      "text/plain": [
       "Text(0.5, 1.0, 'Convergence of gradient descent')"
      ]
     },
     "execution_count": 42,
     "metadata": {},
     "output_type": "execute_result"
    },
    {
     "data": {
      "image/png": "[encoded data removed]",
      "text/plain": [
       "<Figure size 432x288 with 1 Axes>"
      ]
     },
     "metadata": {
      "needs_background": "light"
     },
     "output_type": "display_data"
    }
   ],
   "source": [
    "plt.plot(range(1, iterations + 1), cost_history)\n",
    "plt.xlabel(\"Number of iterations\")\n",
    "plt.ylabel(\"cost\")\n",
    "plt.title(\"Convergence of gradient descent\")"
   ]
  },
  {
   "cell_type": "code",
   "execution_count": 43,
   "id": "e491c035",
   "metadata": {},
   "outputs": [],
   "source": [
    "def predict(X, theta):\n",
    "    return X.dot(theta)\n",
    "y_pred = predict(x_test, theta)"
   ]
  },
  {
   "cell_type": "code",
   "execution_count": 44,
   "id": "f5870c44",
   "metadata": {
    "scrolled": true
   },
   "outputs": [
    {
     "data": {
      "text/plain": [
       "0.9305212804499309"
      ]
     },
     "execution_count": 44,
     "metadata": {},
     "output_type": "execute_result"
    },
    {
     "data": {
      "image/png": "[encoded data removed]",
      "text/plain": [
       "<Figure size 432x288 with 1 Axes>"
      ]
     },
     "metadata": {
      "needs_background": "light"
     },
     "output_type": "display_data"
    }
   ],
   "source": [
    "plt.scatter(y_test['PTS'],y_pred.flatten())\n",
    "plt.xlabel('y_test points per game')\n",
    "plt.ylabel('predicted points per game')\n",
    "plt.title('predicted vs actual points per game (Manual Model)')\n",
    "\n",
    "z = np.polyfit(y_test['PTS'], y_pred.flatten(), 1)\n",
    "p = np.poly1d(z)\n",
    "plt.plot(y_test['PTS'],p(y_test['PTS']),\"r\")\n",
    "\n",
    "stats.pearsonr(y_test_array.flatten(),y_pred.flatten())[0]"
   ]
  },
  {
   "cell_type": "code",
   "execution_count": 45,
   "id": "e661bae5",
   "metadata": {},
   "outputs": [
    {
     "data": {
      "text/plain": [
       "0.9254398990978354"
      ]
     },
     "execution_count": 45,
     "metadata": {},
     "output_type": "execute_result"
    },
    {
     "data": {
      "image/png": "[encoded data removed]",
      "text/plain": [
       "<Figure size 432x288 with 1 Axes>"
      ]
     },
     "metadata": {
      "needs_background": "light"
     },
     "output_type": "display_data"
    }
   ],
   "source": [
    "plt.scatter(y_test['PTS'],pts_prediction['PTS'])\n",
    "plt.xlabel('y_test points per game')\n",
    "plt.ylabel('predicted points per game')\n",
    "plt.title('predicted vs actual points per game (Built in Model)')\n",
    "\n",
    "z = np.polyfit(y_test['PTS'], pts_prediction['PTS'], 1)\n",
    "p = np.poly1d(z)\n",
    "plt.plot(y_test['PTS'],p(y_test['PTS']),\"r\")\n",
    "\n",
    "stats.pearsonr(y_test_array.flatten(),pts_prediction_array.flatten())[0]"
   ]
  },
  {
   "cell_type": "code",
   "execution_count": 46,
   "id": "5b9f56e3",
   "metadata": {},
   "outputs": [
    {
     "name": "stdout",
     "output_type": "stream",
     "text": [
      "-0.5461\n"
     ]
    }
   ],
   "source": [
    "percent_error(stats.pearsonr(y_test_array.flatten(),pts_prediction_array.flatten())[0],stats.pearsonr(y_test_array.flatten(),y_pred.flatten())[0])"
   ]
  },
  {
   "cell_type": "code",
   "execution_count": 47,
   "id": "4a43cf1e",
   "metadata": {},
   "outputs": [
    {
     "name": "stdout",
     "output_type": "stream",
     "text": [
      "2.1867894304256095\n"
     ]
    }
   ],
   "source": [
    "RMSE2 = sqrt(mean_squared_error(y_true = y_test, y_pred = y_pred))\n",
    "print(RMSE2)"
   ]
  },
  {
   "cell_type": "code",
   "execution_count": 48,
   "id": "9b2a1e06",
   "metadata": {},
   "outputs": [
    {
     "name": "stdout",
     "output_type": "stream",
     "text": [
      "-3.9064\n"
     ]
    }
   ],
   "source": [
    "percent_error(RMSE2,RMSE)"
   ]
  },
  {
   "cell_type": "code",
   "execution_count": null,
   "id": "98be50c9",
   "metadata": {},
   "outputs": [],
   "source": []
  }
 ],
 "metadata": {
  "kernelspec": {
   "display_name": "Python 3",
   "language": "python",
   "name": "python3"
  },
  "language_info": {
   "codemirror_mode": {
    "name": "ipython",
    "version": 3
   },
   "file_extension": ".py",
   "mimetype": "text/x-python",
   "name": "python",
   "nbconvert_exporter": "python",
   "pygments_lexer": "ipython3",
   "version": "3.8.8"
  }
 },
 "nbformat": 4,
 "nbformat_minor": 5
}
